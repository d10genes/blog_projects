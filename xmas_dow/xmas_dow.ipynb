{
 "cells": [
  {
   "cell_type": "markdown",
   "metadata": {},
   "source": [
    "After this year's Christmas being on a Sunday\n",
    "rendered my normal holiday schedule completely disrupted (ok, perhaps negligibly inconvenienced would be more fitting), I wondered what the regularity or patterns of Sunday Christmases there might be. This is what I look for in this mini-post."
   ]
  },
  {
   "cell_type": "code",
   "execution_count": 1,
   "metadata": {
    "collapsed": true
   },
   "outputs": [],
   "source": [
    "import calendar as cal\n",
    "import datetime as dt\n",
    "from pandas import pandas as pd, DataFrame\n",
    "pd.options.display.notebook_repr_html = False"
   ]
  },
  {
   "cell_type": "markdown",
   "metadata": {},
   "source": [
    "The following few lines give the date and day of week of all the Christmases in the 21st century:"
   ]
  },
  {
   "cell_type": "code",
   "execution_count": 2,
   "metadata": {
    "collapsed": false
   },
   "outputs": [
    {
     "data": {
      "text/plain": [
       "     Yr       Xmas Xmas_dow\n",
       "0  2000 2000-12-25      Mon\n",
       "1  2001 2001-12-25      Tue\n",
       "2  2002 2002-12-25      Wed\n",
       "3  2003 2003-12-25      Thu\n",
       "4  2004 2004-12-25      Sat\n",
       "5  2005 2005-12-25      Sun\n",
       "6  2006 2006-12-25      Mon\n",
       "7  2007 2007-12-25      Tue\n",
       "8  2008 2008-12-25      Thu\n",
       "9  2009 2009-12-25      Fri"
      ]
     },
     "execution_count": 2,
     "metadata": {},
     "output_type": "execute_result"
    }
   ],
   "source": [
    "christmas = lambda year: dt.date(year, 12, 25)\n",
    "\n",
    "ydf = DataFrame({'Yr': range(2000, 2100)})\n",
    "ydf['Xmas'] = pd.to_datetime(ydf.Yr.map(christmas))\n",
    "ydf['Xmas_dow'] = ydf.Xmas.dt.strftime('%a')\n",
    "ydf[:10]"
   ]
  },
  {
   "cell_type": "markdown",
   "metadata": {},
   "source": [
    "A simple rule of thumb we can see is that the day of week that Christmas falls on increases by one every year, except for leap years where it increases by 2 days.\n",
    "\n",
    "The following block encodes something like Sunday epochs (`Sun_epoch`), where the count is only incremented on the years with a Christmas on a Sunday."
   ]
  },
  {
   "cell_type": "code",
   "execution_count": 3,
   "metadata": {
    "collapsed": false
   },
   "outputs": [
    {
     "data": {
      "text/plain": [
       "     Yr       Xmas Xmas_dow Sunday  Sun_epoch\n",
       "0  2000 2000-12-25      Mon  False          0\n",
       "1  2001 2001-12-25      Tue  False          0\n",
       "2  2002 2002-12-25      Wed  False          0\n",
       "3  2003 2003-12-25      Thu  False          0\n",
       "4  2004 2004-12-25      Sat  False          0\n",
       "5  2005 2005-12-25      Sun   True          1\n",
       "6  2006 2006-12-25      Mon  False          1"
      ]
     },
     "execution_count": 3,
     "metadata": {},
     "output_type": "execute_result"
    }
   ],
   "source": [
    "ydf['Sunday'] = ydf.Xmas_dow == 'Sun'\n",
    "ydf['Sun_epoch'] = ydf.Sunday.cumsum()\n",
    "ydf[:7]"
   ]
  },
  {
   "cell_type": "markdown",
   "metadata": {},
   "source": [
    "This enables a quick summary of the intervals, showing a pattern where we'll typically have to wait 5 or 6 years for a Sunday, but occasionally have to wait up to 11 years:"
   ]
  },
  {
   "cell_type": "code",
   "execution_count": 4,
   "metadata": {
    "collapsed": false
   },
   "outputs": [
    {
     "data": {
      "text/plain": [
       "           size   min\n",
       "Sun_epoch            \n",
       "1             6  2005\n",
       "2             5  2011\n",
       "3             6  2016\n",
       "4            11  2022\n",
       "5             6  2033\n",
       "6             5  2039\n",
       "7             6  2044\n",
       "8            11  2050\n",
       "9             6  2061\n",
       "10            5  2067\n",
       "11            6  2072\n",
       "12           11  2078\n",
       "13            6  2089\n",
       "14            5  2095"
      ]
     },
     "execution_count": 4,
     "metadata": {},
     "output_type": "execute_result"
    }
   ],
   "source": [
    "ydf.query('Sun_epoch > 0').groupby('Sun_epoch').Yr.agg(['size', 'min'])"
   ]
  },
  {
   "cell_type": "markdown",
   "metadata": {},
   "source": [
    "It looks like 2016 began an epoch of Sunday-free Christmases that will last for 6 years, after which we'll have a dry spot of 11 years without the inconvenient Sunday Christmas.\n",
    "\n",
    "A last thing I'm curious about is the regularity of Christmas occurring on a weekend, which is almost as undesirable for me:"
   ]
  },
  {
   "cell_type": "code",
   "execution_count": 5,
   "metadata": {
    "collapsed": false
   },
   "outputs": [
    {
     "data": {
      "text/plain": [
       "           size   min\n",
       "Wkd_epoch            \n",
       "1             1  2004\n",
       "2             5  2005\n",
       "3             1  2010\n",
       "4             5  2011\n",
       "5             5  2016\n",
       "6             1  2021\n",
       "7             5  2022\n",
       "8             5  2027\n",
       "9             1  2032\n",
       "10            5  2033\n",
       "11            1  2038\n",
       "12            5  2039\n",
       "13            5  2044\n",
       "14            1  2049\n",
       "15            5  2050\n",
       "16            5  2055\n",
       "17            1  2060\n",
       "18            5  2061\n",
       "19            1  2066\n",
       "20            5  2067\n",
       "21            5  2072\n",
       "22            1  2077\n",
       "23            5  2078\n",
       "24            5  2083\n",
       "25            1  2088\n",
       "26            5  2089\n",
       "27            1  2094\n",
       "28            5  2095"
      ]
     },
     "execution_count": 5,
     "metadata": {},
     "output_type": "execute_result"
    }
   ],
   "source": [
    "ydf['Weekend'] = ydf.Xmas_dow.isin(['Sat', 'Sun'])\n",
    "ydf['Wkd_epoch'] = ydf.Weekend.cumsum()\n",
    "ydf.query('Wkd_epoch > 0').groupby('Wkd_epoch').Yr.agg(['size', 'min'])"
   ]
  },
  {
   "cell_type": "markdown",
   "metadata": {},
   "source": [
    "As expected, these occur much more frequently, and without the periodic 11-year respite."
   ]
  }
 ],
 "metadata": {
  "anaconda-cloud": {},
  "kernelspec": {
   "display_name": "Python 3",
   "language": "python",
   "name": "python3"
  },
  "language_info": {
   "codemirror_mode": {
    "name": "ipython",
    "version": 3
   },
   "file_extension": ".py",
   "mimetype": "text/x-python",
   "name": "python",
   "nbconvert_exporter": "python",
   "pygments_lexer": "ipython3",
   "version": "3.5.2"
  }
 },
 "nbformat": 4,
 "nbformat_minor": 2
}
